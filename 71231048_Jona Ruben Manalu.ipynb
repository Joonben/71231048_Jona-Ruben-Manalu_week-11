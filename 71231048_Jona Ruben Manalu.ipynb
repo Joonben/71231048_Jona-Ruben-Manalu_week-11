{
 "cells": [
  {
   "cell_type": "code",
   "execution_count": 2,
   "id": "d48a83e7",
   "metadata": {},
   "outputs": [
    {
     "name": "stdout",
     "output_type": "stream",
     "text": [
      "key value item\n",
      "1   10   1\n",
      "2   20   2\n",
      "3   30   3\n",
      "4   40   4\n",
      "5   50   5\n",
      "6   60   6\n"
     ]
    }
   ],
   "source": [
    "# lathian mandiri 10.1\n",
    "dictionary = {1:10,2:20,3:30,4:40,5:50,6:60}\n",
    "\n",
    "key = list(dictionary.keys())\n",
    "val = list(dictionary.values())\n",
    "a=1\n",
    "print(\"key\",\"value\",\"item\")\n",
    "for i in range(0, len(dictionary)):\n",
    "    print(key[i], \" \", val[i], \" \", a)\n",
    "    a=a+1"
   ]
  },
  {
   "cell_type": "code",
   "execution_count": 1,
   "id": "9a525fd5",
   "metadata": {},
   "outputs": [
    {
     "name": "stdout",
     "output_type": "stream",
     "text": [
      "{'red': '#FF000', 'green': '#008000', 'blue': '#000FF'}\n"
     ]
    }
   ],
   "source": [
    "#latihan mandiri 10.2\n",
    "lista = [\"red\", \"green\", \"blue\"]\n",
    "listb = [\"#FF000\", \"#008000\", \"#000FF\"]\n",
    "\n",
    "y = dict()\n",
    "for i in range(len(lista)):\n",
    "    y[lista[i]]=listb[i]\n",
    "print(y)"
   ]
  },
  {
   "cell_type": "code",
   "execution_count": 1,
   "id": "79172d68",
   "metadata": {},
   "outputs": [
    {
     "name": "stdout",
     "output_type": "stream",
     "text": [
      "Masukan nama file : mbox-short.txt\n",
      "{'stephen.marquard@uct.ac.za': 2, 'louis@media.berkeley.edu': 3, 'zqian@umich.edu': 4, 'rjlowe@iupui.edu': 2, 'cwen@iupui.edu': 5, 'gsilver@umich.edu': 3, 'wagnermr@iupui.edu': 1, 'antranig@caret.cam.ac.uk': 1, 'gopal.ramasammycook@gmail.com': 1, 'david.horwitz@uct.ac.za': 4, 'ray@media.berkeley.edu': 1}\n"
     ]
    }
   ],
   "source": [
    "#latihan mandiri 10.3\n",
    "inputa = input(\"Masukan nama file : \")\n",
    "dict = {}\n",
    "with open(inputa, \"r\") as file:\n",
    "    lines = file.readlines()\n",
    "    for line in lines:\n",
    "        if line.startswith(\"From:\"):\n",
    "            kata = line.split()\n",
    "            if kata[1] not in dict:\n",
    "                dict[kata[1]] = 1\n",
    "            else:\n",
    "                dict[kata[1]] += 1\n",
    "                    \n",
    "print(dict)"
   ]
  },
  {
   "cell_type": "code",
   "execution_count": 1,
   "id": "829e7e65",
   "metadata": {},
   "outputs": [
    {
     "name": "stdout",
     "output_type": "stream",
     "text": [
      "Masukan nama file : mbox-short.txt\n",
      "{'uct.ac.za': 6, 'media.berkeley.edu': 4, 'umich.edu': 7, 'iupui.edu': 8, 'caret.cam.ac.uk': 1, 'gmail.com': 1}\n"
     ]
    }
   ],
   "source": [
    "# latihan mandiri 10.4\n",
    "input = input(\"Masukan nama file : \")\n",
    "def domain_name(email):\n",
    "    list = []\n",
    "    domain = ''\n",
    "    for x in email:\n",
    "        list.append(x)\n",
    "    # Mencari index \"@\"\n",
    "    index = list.index(\"@\")\n",
    "    for x in list[index+1:]:\n",
    "        domain += x\n",
    "    return domain\n",
    "def count_domain(input):\n",
    "    dict = {}\n",
    "    with open(input, \"r\") as file:\n",
    "        lines = file.readlines()\n",
    "        for line in lines:\n",
    "            if line.startswith(\"From:\"):\n",
    "                kata = line.split()\n",
    "                domain = domain_name(kata[1])\n",
    "                if domain not in dict:\n",
    "                    dict[domain] = 1\n",
    "                else:\n",
    "                    dict[domain] += 1\n",
    "    print(dict)\n",
    "                    \n",
    "count_domain(input)           "
   ]
  },
  {
   "cell_type": "code",
   "execution_count": null,
   "id": "c85e1047",
   "metadata": {},
   "outputs": [],
   "source": []
  }
 ],
 "metadata": {
  "kernelspec": {
   "display_name": "Python 3 (ipykernel)",
   "language": "python",
   "name": "python3"
  },
  "language_info": {
   "codemirror_mode": {
    "name": "ipython",
    "version": 3
   },
   "file_extension": ".py",
   "mimetype": "text/x-python",
   "name": "python",
   "nbconvert_exporter": "python",
   "pygments_lexer": "ipython3",
   "version": "3.11.5"
  }
 },
 "nbformat": 4,
 "nbformat_minor": 5
}
